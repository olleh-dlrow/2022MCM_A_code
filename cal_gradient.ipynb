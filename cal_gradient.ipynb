{
 "cells": [
  {
   "cell_type": "code",
   "execution_count": 1,
   "source": [
    "import pandas as pd\r\n",
    "import numpy as np"
   ],
   "outputs": [],
   "metadata": {}
  },
  {
   "cell_type": "code",
   "execution_count": 2,
   "source": [
    "data = pd.read_csv('Tokyo.csv')\r\n",
    "data.head()"
   ],
   "outputs": [
    {
     "output_type": "execute_result",
     "data": {
      "text/plain": [
       "   DistanceMeters  AltitudeMeters\n",
       "0        0.000000          578.69\n",
       "1       75.149749          578.00\n",
       "2      150.299497          581.94\n",
       "3      225.449260          584.13\n",
       "4      257.128913          581.95"
      ],
      "text/html": [
       "<div>\n",
       "<style scoped>\n",
       "    .dataframe tbody tr th:only-of-type {\n",
       "        vertical-align: middle;\n",
       "    }\n",
       "\n",
       "    .dataframe tbody tr th {\n",
       "        vertical-align: top;\n",
       "    }\n",
       "\n",
       "    .dataframe thead th {\n",
       "        text-align: right;\n",
       "    }\n",
       "</style>\n",
       "<table border=\"1\" class=\"dataframe\">\n",
       "  <thead>\n",
       "    <tr style=\"text-align: right;\">\n",
       "      <th></th>\n",
       "      <th>DistanceMeters</th>\n",
       "      <th>AltitudeMeters</th>\n",
       "    </tr>\n",
       "  </thead>\n",
       "  <tbody>\n",
       "    <tr>\n",
       "      <th>0</th>\n",
       "      <td>0.000000</td>\n",
       "      <td>578.69</td>\n",
       "    </tr>\n",
       "    <tr>\n",
       "      <th>1</th>\n",
       "      <td>75.149749</td>\n",
       "      <td>578.00</td>\n",
       "    </tr>\n",
       "    <tr>\n",
       "      <th>2</th>\n",
       "      <td>150.299497</td>\n",
       "      <td>581.94</td>\n",
       "    </tr>\n",
       "    <tr>\n",
       "      <th>3</th>\n",
       "      <td>225.449260</td>\n",
       "      <td>584.13</td>\n",
       "    </tr>\n",
       "    <tr>\n",
       "      <th>4</th>\n",
       "      <td>257.128913</td>\n",
       "      <td>581.95</td>\n",
       "    </tr>\n",
       "  </tbody>\n",
       "</table>\n",
       "</div>"
      ]
     },
     "metadata": {},
     "execution_count": 2
    }
   ],
   "metadata": {}
  },
  {
   "cell_type": "code",
   "execution_count": 3,
   "source": [
    "data_diff = data.diff()\r\n",
    "data['DistanceDiff'] = data_diff['DistanceMeters']\r\n",
    "data['AltitudeDiff'] = data_diff['AltitudeMeters']\r\n",
    "data.head()"
   ],
   "outputs": [
    {
     "output_type": "execute_result",
     "data": {
      "text/plain": [
       "   DistanceMeters  AltitudeMeters  DistanceDiff  AltitudeDiff\n",
       "0        0.000000          578.69           NaN           NaN\n",
       "1       75.149749          578.00     75.149749         -0.69\n",
       "2      150.299497          581.94     75.149749          3.94\n",
       "3      225.449260          584.13     75.149762          2.19\n",
       "4      257.128913          581.95     31.679654         -2.18"
      ],
      "text/html": [
       "<div>\n",
       "<style scoped>\n",
       "    .dataframe tbody tr th:only-of-type {\n",
       "        vertical-align: middle;\n",
       "    }\n",
       "\n",
       "    .dataframe tbody tr th {\n",
       "        vertical-align: top;\n",
       "    }\n",
       "\n",
       "    .dataframe thead th {\n",
       "        text-align: right;\n",
       "    }\n",
       "</style>\n",
       "<table border=\"1\" class=\"dataframe\">\n",
       "  <thead>\n",
       "    <tr style=\"text-align: right;\">\n",
       "      <th></th>\n",
       "      <th>DistanceMeters</th>\n",
       "      <th>AltitudeMeters</th>\n",
       "      <th>DistanceDiff</th>\n",
       "      <th>AltitudeDiff</th>\n",
       "    </tr>\n",
       "  </thead>\n",
       "  <tbody>\n",
       "    <tr>\n",
       "      <th>0</th>\n",
       "      <td>0.000000</td>\n",
       "      <td>578.69</td>\n",
       "      <td>NaN</td>\n",
       "      <td>NaN</td>\n",
       "    </tr>\n",
       "    <tr>\n",
       "      <th>1</th>\n",
       "      <td>75.149749</td>\n",
       "      <td>578.00</td>\n",
       "      <td>75.149749</td>\n",
       "      <td>-0.69</td>\n",
       "    </tr>\n",
       "    <tr>\n",
       "      <th>2</th>\n",
       "      <td>150.299497</td>\n",
       "      <td>581.94</td>\n",
       "      <td>75.149749</td>\n",
       "      <td>3.94</td>\n",
       "    </tr>\n",
       "    <tr>\n",
       "      <th>3</th>\n",
       "      <td>225.449260</td>\n",
       "      <td>584.13</td>\n",
       "      <td>75.149762</td>\n",
       "      <td>2.19</td>\n",
       "    </tr>\n",
       "    <tr>\n",
       "      <th>4</th>\n",
       "      <td>257.128913</td>\n",
       "      <td>581.95</td>\n",
       "      <td>31.679654</td>\n",
       "      <td>-2.18</td>\n",
       "    </tr>\n",
       "  </tbody>\n",
       "</table>\n",
       "</div>"
      ]
     },
     "metadata": {},
     "execution_count": 3
    }
   ],
   "metadata": {}
  },
  {
   "cell_type": "code",
   "execution_count": 4,
   "source": [
    "data['Gradient'] = data['AltitudeDiff'] / data['DistanceDiff']\r\n",
    "data.head()"
   ],
   "outputs": [
    {
     "output_type": "execute_result",
     "data": {
      "text/plain": [
       "   DistanceMeters  AltitudeMeters  DistanceDiff  AltitudeDiff  Gradient\n",
       "0        0.000000          578.69           NaN           NaN       NaN\n",
       "1       75.149749          578.00     75.149749         -0.69 -0.009182\n",
       "2      150.299497          581.94     75.149749          3.94  0.052429\n",
       "3      225.449260          584.13     75.149762          2.19  0.029142\n",
       "4      257.128913          581.95     31.679654         -2.18 -0.068814"
      ],
      "text/html": [
       "<div>\n",
       "<style scoped>\n",
       "    .dataframe tbody tr th:only-of-type {\n",
       "        vertical-align: middle;\n",
       "    }\n",
       "\n",
       "    .dataframe tbody tr th {\n",
       "        vertical-align: top;\n",
       "    }\n",
       "\n",
       "    .dataframe thead th {\n",
       "        text-align: right;\n",
       "    }\n",
       "</style>\n",
       "<table border=\"1\" class=\"dataframe\">\n",
       "  <thead>\n",
       "    <tr style=\"text-align: right;\">\n",
       "      <th></th>\n",
       "      <th>DistanceMeters</th>\n",
       "      <th>AltitudeMeters</th>\n",
       "      <th>DistanceDiff</th>\n",
       "      <th>AltitudeDiff</th>\n",
       "      <th>Gradient</th>\n",
       "    </tr>\n",
       "  </thead>\n",
       "  <tbody>\n",
       "    <tr>\n",
       "      <th>0</th>\n",
       "      <td>0.000000</td>\n",
       "      <td>578.69</td>\n",
       "      <td>NaN</td>\n",
       "      <td>NaN</td>\n",
       "      <td>NaN</td>\n",
       "    </tr>\n",
       "    <tr>\n",
       "      <th>1</th>\n",
       "      <td>75.149749</td>\n",
       "      <td>578.00</td>\n",
       "      <td>75.149749</td>\n",
       "      <td>-0.69</td>\n",
       "      <td>-0.009182</td>\n",
       "    </tr>\n",
       "    <tr>\n",
       "      <th>2</th>\n",
       "      <td>150.299497</td>\n",
       "      <td>581.94</td>\n",
       "      <td>75.149749</td>\n",
       "      <td>3.94</td>\n",
       "      <td>0.052429</td>\n",
       "    </tr>\n",
       "    <tr>\n",
       "      <th>3</th>\n",
       "      <td>225.449260</td>\n",
       "      <td>584.13</td>\n",
       "      <td>75.149762</td>\n",
       "      <td>2.19</td>\n",
       "      <td>0.029142</td>\n",
       "    </tr>\n",
       "    <tr>\n",
       "      <th>4</th>\n",
       "      <td>257.128913</td>\n",
       "      <td>581.95</td>\n",
       "      <td>31.679654</td>\n",
       "      <td>-2.18</td>\n",
       "      <td>-0.068814</td>\n",
       "    </tr>\n",
       "  </tbody>\n",
       "</table>\n",
       "</div>"
      ]
     },
     "metadata": {},
     "execution_count": 4
    }
   ],
   "metadata": {}
  },
  {
   "cell_type": "code",
   "execution_count": 5,
   "source": [
    "data.to_csv('Tokyo.csv')"
   ],
   "outputs": [],
   "metadata": {}
  }
 ],
 "metadata": {
  "orig_nbformat": 4,
  "language_info": {
   "name": "python",
   "version": "3.6.8",
   "mimetype": "text/x-python",
   "codemirror_mode": {
    "name": "ipython",
    "version": 3
   },
   "pygments_lexer": "ipython3",
   "nbconvert_exporter": "python",
   "file_extension": ".py"
  },
  "kernelspec": {
   "name": "python3",
   "display_name": "Python 3.6.8 64-bit ('py368': conda)"
  },
  "interpreter": {
   "hash": "1a0087f30a28d71a85a1d6b49f52318c6de7712d4f48fe24e973123e49211ddd"
  }
 },
 "nbformat": 4,
 "nbformat_minor": 2
}