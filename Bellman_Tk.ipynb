{
 "cells": [
  {
   "cell_type": "code",
   "execution_count": 1,
   "metadata": {},
   "outputs": [],
   "source": [
    "from matplotlib import pyplot as plt\n",
    "import numpy as np\n",
    "from numpy import inf\n",
    "import math"
   ]
  },
  {
   "cell_type": "code",
   "execution_count": 2,
   "metadata": {},
   "outputs": [],
   "source": [
    "# 从脚本中导入数据\n",
    "from race1 import *"
   ]
  },
  {
   "cell_type": "code",
   "execution_count": 3,
   "metadata": {},
   "outputs": [],
   "source": [
    "# 保存文件\n",
    "save_file = 'Tokyo_save_Sprinter.csv'"
   ]
  },
  {
   "cell_type": "code",
   "execution_count": 4,
   "metadata": {},
   "outputs": [
    {
     "data": {
      "text/plain": [
       "(968, 6)"
      ]
     },
     "execution_count": 4,
     "metadata": {},
     "output_type": "execute_result"
    }
   ],
   "source": [
    "# 读取赛道的数据\n",
    "import pandas as pd\n",
    "\n",
    "data = pd.read_csv('Tokyo.csv')\n",
    "data.shape"
   ]
  },
  {
   "cell_type": "code",
   "execution_count": 5,
   "metadata": {},
   "outputs": [
    {
     "data": {
      "text/html": [
       "<div>\n",
       "<style scoped>\n",
       "    .dataframe tbody tr th:only-of-type {\n",
       "        vertical-align: middle;\n",
       "    }\n",
       "\n",
       "    .dataframe tbody tr th {\n",
       "        vertical-align: top;\n",
       "    }\n",
       "\n",
       "    .dataframe thead th {\n",
       "        text-align: right;\n",
       "    }\n",
       "</style>\n",
       "<table border=\"1\" class=\"dataframe\">\n",
       "  <thead>\n",
       "    <tr style=\"text-align: right;\">\n",
       "      <th></th>\n",
       "      <th>Unnamed: 0</th>\n",
       "      <th>DistanceMeters</th>\n",
       "      <th>AltitudeMeters</th>\n",
       "      <th>DistanceDiff</th>\n",
       "      <th>AltitudeDiff</th>\n",
       "      <th>Gradient</th>\n",
       "    </tr>\n",
       "  </thead>\n",
       "  <tbody>\n",
       "    <tr>\n",
       "      <th>963</th>\n",
       "      <td>963</td>\n",
       "      <td>43639.967907</td>\n",
       "      <td>588.27</td>\n",
       "      <td>65.790307</td>\n",
       "      <td>7.44</td>\n",
       "      <td>0.113087</td>\n",
       "    </tr>\n",
       "    <tr>\n",
       "      <th>964</th>\n",
       "      <td>964</td>\n",
       "      <td>43705.758228</td>\n",
       "      <td>595.11</td>\n",
       "      <td>65.790322</td>\n",
       "      <td>6.84</td>\n",
       "      <td>0.103967</td>\n",
       "    </tr>\n",
       "    <tr>\n",
       "      <th>965</th>\n",
       "      <td>965</td>\n",
       "      <td>43762.736029</td>\n",
       "      <td>594.16</td>\n",
       "      <td>56.977800</td>\n",
       "      <td>-0.95</td>\n",
       "      <td>-0.016673</td>\n",
       "    </tr>\n",
       "    <tr>\n",
       "      <th>966</th>\n",
       "      <td>966</td>\n",
       "      <td>43819.713819</td>\n",
       "      <td>591.98</td>\n",
       "      <td>56.977791</td>\n",
       "      <td>-2.18</td>\n",
       "      <td>-0.038261</td>\n",
       "    </tr>\n",
       "    <tr>\n",
       "      <th>967</th>\n",
       "      <td>967</td>\n",
       "      <td>43884.429118</td>\n",
       "      <td>589.77</td>\n",
       "      <td>64.715298</td>\n",
       "      <td>-2.21</td>\n",
       "      <td>-0.034150</td>\n",
       "    </tr>\n",
       "  </tbody>\n",
       "</table>\n",
       "</div>"
      ],
      "text/plain": [
       "     Unnamed: 0  DistanceMeters  AltitudeMeters  DistanceDiff  AltitudeDiff  \\\n",
       "963         963    43639.967907          588.27     65.790307          7.44   \n",
       "964         964    43705.758228          595.11     65.790322          6.84   \n",
       "965         965    43762.736029          594.16     56.977800         -0.95   \n",
       "966         966    43819.713819          591.98     56.977791         -2.18   \n",
       "967         967    43884.429118          589.77     64.715298         -2.21   \n",
       "\n",
       "     Gradient  \n",
       "963  0.113087  \n",
       "964  0.103967  \n",
       "965 -0.016673  \n",
       "966 -0.038261  \n",
       "967 -0.034150  "
      ]
     },
     "execution_count": 5,
     "metadata": {},
     "output_type": "execute_result"
    }
   ],
   "source": [
    "data.tail()"
   ]
  },
  {
   "cell_type": "code",
   "execution_count": 6,
   "metadata": {},
   "outputs": [
    {
     "data": {
      "text/plain": [
       "43884.429117550266"
      ]
     },
     "execution_count": 6,
     "metadata": {},
     "output_type": "execute_result"
    }
   ],
   "source": [
    "# 计算S\n",
    "S = data.iloc[-1, 1]\n",
    "S"
   ]
  },
  {
   "cell_type": "code",
   "execution_count": 7,
   "metadata": {},
   "outputs": [
    {
     "data": {
      "text/html": [
       "<div>\n",
       "<style scoped>\n",
       "    .dataframe tbody tr th:only-of-type {\n",
       "        vertical-align: middle;\n",
       "    }\n",
       "\n",
       "    .dataframe tbody tr th {\n",
       "        vertical-align: top;\n",
       "    }\n",
       "\n",
       "    .dataframe thead th {\n",
       "        text-align: right;\n",
       "    }\n",
       "</style>\n",
       "<table border=\"1\" class=\"dataframe\">\n",
       "  <thead>\n",
       "    <tr style=\"text-align: right;\">\n",
       "      <th></th>\n",
       "      <th>Unnamed: 0</th>\n",
       "      <th>DistanceMeters</th>\n",
       "      <th>AltitudeMeters</th>\n",
       "      <th>DistanceDiff</th>\n",
       "      <th>AltitudeDiff</th>\n",
       "      <th>Gradient</th>\n",
       "    </tr>\n",
       "  </thead>\n",
       "  <tbody>\n",
       "    <tr>\n",
       "      <th>0</th>\n",
       "      <td>0</td>\n",
       "      <td>0.000000</td>\n",
       "      <td>578.69</td>\n",
       "      <td>NaN</td>\n",
       "      <td>NaN</td>\n",
       "      <td>NaN</td>\n",
       "    </tr>\n",
       "    <tr>\n",
       "      <th>1</th>\n",
       "      <td>1</td>\n",
       "      <td>75.149749</td>\n",
       "      <td>578.00</td>\n",
       "      <td>75.149749</td>\n",
       "      <td>-0.69</td>\n",
       "      <td>-0.009182</td>\n",
       "    </tr>\n",
       "    <tr>\n",
       "      <th>2</th>\n",
       "      <td>2</td>\n",
       "      <td>150.299497</td>\n",
       "      <td>581.94</td>\n",
       "      <td>75.149749</td>\n",
       "      <td>3.94</td>\n",
       "      <td>0.052429</td>\n",
       "    </tr>\n",
       "    <tr>\n",
       "      <th>3</th>\n",
       "      <td>3</td>\n",
       "      <td>225.449260</td>\n",
       "      <td>584.13</td>\n",
       "      <td>75.149762</td>\n",
       "      <td>2.19</td>\n",
       "      <td>0.029142</td>\n",
       "    </tr>\n",
       "    <tr>\n",
       "      <th>4</th>\n",
       "      <td>4</td>\n",
       "      <td>257.128913</td>\n",
       "      <td>581.95</td>\n",
       "      <td>31.679654</td>\n",
       "      <td>-2.18</td>\n",
       "      <td>-0.068814</td>\n",
       "    </tr>\n",
       "  </tbody>\n",
       "</table>\n",
       "</div>"
      ],
      "text/plain": [
       "   Unnamed: 0  DistanceMeters  AltitudeMeters  DistanceDiff  AltitudeDiff  \\\n",
       "0           0        0.000000          578.69           NaN           NaN   \n",
       "1           1       75.149749          578.00     75.149749         -0.69   \n",
       "2           2      150.299497          581.94     75.149749          3.94   \n",
       "3           3      225.449260          584.13     75.149762          2.19   \n",
       "4           4      257.128913          581.95     31.679654         -2.18   \n",
       "\n",
       "   Gradient  \n",
       "0       NaN  \n",
       "1 -0.009182  \n",
       "2  0.052429  \n",
       "3  0.029142  \n",
       "4 -0.068814  "
      ]
     },
     "execution_count": 7,
     "metadata": {},
     "output_type": "execute_result"
    }
   ],
   "source": [
    "data.head()"
   ]
  },
  {
   "cell_type": "markdown",
   "metadata": {},
   "source": [
    "## 海拔图"
   ]
  },
  {
   "cell_type": "code",
   "execution_count": 8,
   "metadata": {},
   "outputs": [
    {
     "data": {
      "text/plain": [
       "<matplotlib.axes._subplots.AxesSubplot at 0x7fdda2427fd0>"
      ]
     },
     "execution_count": 8,
     "metadata": {},
     "output_type": "execute_result"
    },
    {
     "data": {
      "image/png": "[encoded data removed]",
      "text/plain": [
       "<Figure size 432x288 with 1 Axes>"
      ]
     },
     "metadata": {
      "needs_background": "light"
     },
     "output_type": "display_data"
    }
   ],
   "source": [
    "data['AltitudeMeters'].plot()"
   ]
  },
  {
   "cell_type": "code",
   "execution_count": 9,
   "metadata": {},
   "outputs": [
    {
     "data": {
      "text/plain": [
       "0.000000     9\n",
       "6.195165     1\n",
       "6.195165     1\n",
       "6.677741     1\n",
       "6.677741     1\n",
       "            ..\n",
       "99.982602    1\n",
       "99.982602    1\n",
       "99.982602    1\n",
       "99.982602    1\n",
       "99.982602    2\n",
       "Name: DistanceDiff, Length: 921, dtype: int64"
      ]
     },
     "execution_count": 9,
     "metadata": {},
     "output_type": "execute_result"
    }
   ],
   "source": [
    "data['DistanceDiff'].value_counts().sort_index()"
   ]
  },
  {
   "cell_type": "code",
   "execution_count": 10,
   "metadata": {},
   "outputs": [
    {
     "data": {
      "text/html": [
       "<div>\n",
       "<style scoped>\n",
       "    .dataframe tbody tr th:only-of-type {\n",
       "        vertical-align: middle;\n",
       "    }\n",
       "\n",
       "    .dataframe tbody tr th {\n",
       "        vertical-align: top;\n",
       "    }\n",
       "\n",
       "    .dataframe thead th {\n",
       "        text-align: right;\n",
       "    }\n",
       "</style>\n",
       "<table border=\"1\" class=\"dataframe\">\n",
       "  <thead>\n",
       "    <tr style=\"text-align: right;\">\n",
       "      <th></th>\n",
       "      <th>Unnamed: 0</th>\n",
       "      <th>DistanceMeters</th>\n",
       "      <th>AltitudeMeters</th>\n",
       "      <th>DistanceDiff</th>\n",
       "      <th>AltitudeDiff</th>\n",
       "      <th>Gradient</th>\n",
       "    </tr>\n",
       "  </thead>\n",
       "  <tbody>\n",
       "    <tr>\n",
       "      <th>38</th>\n",
       "      <td>38</td>\n",
       "      <td>1287.424880</td>\n",
       "      <td>550.36</td>\n",
       "      <td>0.0</td>\n",
       "      <td>0.00</td>\n",
       "      <td>NaN</td>\n",
       "    </tr>\n",
       "    <tr>\n",
       "      <th>56</th>\n",
       "      <td>56</td>\n",
       "      <td>2006.191334</td>\n",
       "      <td>522.95</td>\n",
       "      <td>0.0</td>\n",
       "      <td>0.00</td>\n",
       "      <td>NaN</td>\n",
       "    </tr>\n",
       "    <tr>\n",
       "      <th>127</th>\n",
       "      <td>127</td>\n",
       "      <td>5344.406864</td>\n",
       "      <td>486.55</td>\n",
       "      <td>0.0</td>\n",
       "      <td>0.00</td>\n",
       "      <td>NaN</td>\n",
       "    </tr>\n",
       "    <tr>\n",
       "      <th>319</th>\n",
       "      <td>319</td>\n",
       "      <td>15569.858685</td>\n",
       "      <td>516.90</td>\n",
       "      <td>0.0</td>\n",
       "      <td>0.00</td>\n",
       "      <td>NaN</td>\n",
       "    </tr>\n",
       "    <tr>\n",
       "      <th>501</th>\n",
       "      <td>501</td>\n",
       "      <td>22656.554530</td>\n",
       "      <td>589.96</td>\n",
       "      <td>0.0</td>\n",
       "      <td>0.01</td>\n",
       "      <td>inf</td>\n",
       "    </tr>\n",
       "    <tr>\n",
       "      <th>520</th>\n",
       "      <td>520</td>\n",
       "      <td>23441.046977</td>\n",
       "      <td>550.36</td>\n",
       "      <td>0.0</td>\n",
       "      <td>0.00</td>\n",
       "      <td>NaN</td>\n",
       "    </tr>\n",
       "    <tr>\n",
       "      <th>538</th>\n",
       "      <td>538</td>\n",
       "      <td>24159.813432</td>\n",
       "      <td>522.95</td>\n",
       "      <td>0.0</td>\n",
       "      <td>0.00</td>\n",
       "      <td>NaN</td>\n",
       "    </tr>\n",
       "    <tr>\n",
       "      <th>609</th>\n",
       "      <td>609</td>\n",
       "      <td>27498.115238</td>\n",
       "      <td>486.55</td>\n",
       "      <td>0.0</td>\n",
       "      <td>0.00</td>\n",
       "      <td>NaN</td>\n",
       "    </tr>\n",
       "    <tr>\n",
       "      <th>802</th>\n",
       "      <td>802</td>\n",
       "      <td>37769.396529</td>\n",
       "      <td>520.79</td>\n",
       "      <td>0.0</td>\n",
       "      <td>0.00</td>\n",
       "      <td>NaN</td>\n",
       "    </tr>\n",
       "  </tbody>\n",
       "</table>\n",
       "</div>"
      ],
      "text/plain": [
       "     Unnamed: 0  DistanceMeters  AltitudeMeters  DistanceDiff  AltitudeDiff  \\\n",
       "38           38     1287.424880          550.36           0.0          0.00   \n",
       "56           56     2006.191334          522.95           0.0          0.00   \n",
       "127         127     5344.406864          486.55           0.0          0.00   \n",
       "319         319    15569.858685          516.90           0.0          0.00   \n",
       "501         501    22656.554530          589.96           0.0          0.01   \n",
       "520         520    23441.046977          550.36           0.0          0.00   \n",
       "538         538    24159.813432          522.95           0.0          0.00   \n",
       "609         609    27498.115238          486.55           0.0          0.00   \n",
       "802         802    37769.396529          520.79           0.0          0.00   \n",
       "\n",
       "     Gradient  \n",
       "38        NaN  \n",
       "56        NaN  \n",
       "127       NaN  \n",
       "319       NaN  \n",
       "501       inf  \n",
       "520       NaN  \n",
       "538       NaN  \n",
       "609       NaN  \n",
       "802       NaN  "
      ]
     },
     "execution_count": 10,
     "metadata": {},
     "output_type": "execute_result"
    }
   ],
   "source": [
    "data.loc[data['DistanceDiff'] == 0]"
   ]
  },
  {
   "cell_type": "code",
   "execution_count": 11,
   "metadata": {},
   "outputs": [
    {
     "data": {
      "text/plain": [
       "501    inf\n",
       "Name: Gradient, dtype: float64"
      ]
     },
     "execution_count": 11,
     "metadata": {},
     "output_type": "execute_result"
    }
   ],
   "source": [
    "data.loc[data['Gradient'] == inf]['Gradient']"
   ]
  },
  {
   "cell_type": "code",
   "execution_count": 12,
   "metadata": {},
   "outputs": [
    {
     "data": {
      "text/plain": [
       "0.00133117865786322"
      ]
     },
     "execution_count": 12,
     "metadata": {},
     "output_type": "execute_result"
    }
   ],
   "source": [
    "grad_mean = data['Gradient'][data['Gradient'] != inf].mean()\n",
    "grad_mean"
   ]
  },
  {
   "cell_type": "code",
   "execution_count": 13,
   "metadata": {},
   "outputs": [
    {
     "data": {
      "text/plain": [
       "(968,)"
      ]
     },
     "execution_count": 13,
     "metadata": {},
     "output_type": "execute_result"
    }
   ],
   "source": [
    "col_grad = data['Gradient']\n",
    "col_grad.shape"
   ]
  },
  {
   "cell_type": "code",
   "execution_count": 14,
   "metadata": {},
   "outputs": [
    {
     "name": "stderr",
     "output_type": "stream",
     "text": [
      "/Users/shuwenchen/opt/anaconda3/envs/py368/lib/python3.6/site-packages/ipykernel_launcher.py:1: SettingWithCopyWarning: \n",
      "A value is trying to be set on a copy of a slice from a DataFrame\n",
      "\n",
      "See the caveats in the documentation: http://pandas.pydata.org/pandas-docs/stable/user_guide/indexing.html#returning-a-view-versus-a-copy\n",
      "  \"\"\"Entry point for launching an IPython kernel.\n"
     ]
    },
    {
     "data": {
      "text/plain": [
       "0      0.001331\n",
       "1     -0.009182\n",
       "2      0.052429\n",
       "3      0.029142\n",
       "4     -0.068814\n",
       "         ...   \n",
       "963    0.113087\n",
       "964    0.103967\n",
       "965   -0.016673\n",
       "966   -0.038261\n",
       "967   -0.034150\n",
       "Name: Gradient, Length: 968, dtype: float64"
      ]
     },
     "execution_count": 14,
     "metadata": {},
     "output_type": "execute_result"
    }
   ],
   "source": [
    "col_grad[col_grad == inf] = np.nan\n",
    "col_grad.fillna(grad_mean, inplace=True)\n",
    "col_grad"
   ]
  },
  {
   "cell_type": "code",
   "execution_count": 15,
   "metadata": {},
   "outputs": [],
   "source": [
    "data['Gradient'] = col_grad"
   ]
  },
  {
   "cell_type": "code",
   "execution_count": 16,
   "metadata": {},
   "outputs": [
    {
     "data": {
      "text/plain": [
       "(Series([], Name: Gradient, dtype: float64),\n",
       " Series([], Name: Gradient, dtype: float64))"
      ]
     },
     "execution_count": 16,
     "metadata": {},
     "output_type": "execute_result"
    }
   ],
   "source": [
    "data['Gradient'][data['Gradient'] == np.nan], data['Gradient'][data['Gradient'] == inf]"
   ]
  },
  {
   "cell_type": "code",
   "execution_count": 17,
   "metadata": {},
   "outputs": [
    {
     "data": {
      "text/plain": [
       "(50, 100, 4389)"
      ]
     },
     "execution_count": 17,
     "metadata": {},
     "output_type": "execute_result"
    }
   ],
   "source": [
    "# 将数据离散化\n",
    "dS = 10\n",
    "S_max = math.floor(S / dS) * dS\n",
    "num_s = int(S_max / dS) + 1\n",
    "num_v = 50\n",
    "num_w = 100\n",
    "v = np.linspace(v_min, v_max, num_v)\n",
    "w = np.linspace(0, w_max, num_w)\n",
    "s = np.linspace(0, S_max, num_s)\n",
    "len(v), len(w), len(s)"
   ]
  },
  {
   "cell_type": "code",
   "execution_count": 18,
   "metadata": {},
   "outputs": [
    {
     "data": {
      "text/plain": [
       "43880"
      ]
     },
     "execution_count": 18,
     "metadata": {},
     "output_type": "execute_result"
    }
   ],
   "source": [
    "S_max"
   ]
  },
  {
   "cell_type": "code",
   "execution_count": 19,
   "metadata": {},
   "outputs": [
    {
     "data": {
      "text/plain": [
       "array([ 0.00133118, -0.00918167, -0.00918167, -0.00918167, -0.00918167])"
      ]
     },
     "execution_count": 19,
     "metadata": {},
     "output_type": "execute_result"
    }
   ],
   "source": [
    "dis_iter = 0\n",
    "grad = np.zeros(num_s)\n",
    "\n",
    "for s_iter in range(num_s):\n",
    "    s_cur = dS * s_iter\n",
    "    if data.iloc[dis_iter, 1] < s_cur:\n",
    "        dis_iter += 1\n",
    "    grad[s_iter] = data.iloc[dis_iter, -1]\n",
    "\n",
    "grad[0:5]    "
   ]
  },
  {
   "cell_type": "code",
   "execution_count": 20,
   "metadata": {},
   "outputs": [
    {
     "data": {
      "text/plain": [
       "array([-0.03414958, -0.03414958, -0.03414958, -0.03414958])"
      ]
     },
     "execution_count": 20,
     "metadata": {},
     "output_type": "execute_result"
    }
   ],
   "source": [
    "grad[-5:-1]"
   ]
  },
  {
   "cell_type": "code",
   "execution_count": 21,
   "metadata": {},
   "outputs": [
    {
     "data": {
      "text/plain": [
       "[<matplotlib.lines.Line2D at 0x7fdd90729be0>]"
      ]
     },
     "execution_count": 21,
     "metadata": {},
     "output_type": "execute_result"
    },
    {
     "data": {
      "image/png": "[encoded data removed]",
      "text/plain": [
       "<Figure size 432x288 with 1 Axes>"
      ]
     },
     "metadata": {
      "needs_background": "light"
     },
     "output_type": "display_data"
    }
   ],
   "source": [
    "grad[0] = 0\n",
    "plt.plot(grad)"
   ]
  },
  {
   "cell_type": "code",
   "execution_count": 22,
   "metadata": {},
   "outputs": [
    {
     "data": {
      "text/plain": [
       "0.62272927140525"
      ]
     },
     "execution_count": 22,
     "metadata": {},
     "output_type": "execute_result"
    }
   ],
   "source": [
    "max(grad)"
   ]
  },
  {
   "cell_type": "code",
   "execution_count": 23,
   "metadata": {},
   "outputs": [
    {
     "data": {
      "text/plain": [
       "11.460000000000036"
      ]
     },
     "execution_count": 23,
     "metadata": {},
     "output_type": "execute_result"
    }
   ],
   "source": [
    "max(data.loc[1:, 'AltitudeDiff'])"
   ]
  },
  {
   "cell_type": "code",
   "execution_count": 24,
   "metadata": {},
   "outputs": [
    {
     "data": {
      "text/plain": [
       "99.98260206719715"
      ]
     },
     "execution_count": 24,
     "metadata": {},
     "output_type": "execute_result"
    }
   ],
   "source": [
    "max(data.loc[1:, 'DistanceDiff'])"
   ]
  },
  {
   "cell_type": "markdown",
   "metadata": {},
   "source": [
    "## 计算theta"
   ]
  },
  {
   "cell_type": "code",
   "execution_count": 25,
   "metadata": {},
   "outputs": [
    {
     "data": {
      "text/plain": [
       "array([ 0.        , -0.00918141, -0.00918141, -0.00918141, -0.00918141])"
      ]
     },
     "execution_count": 25,
     "metadata": {},
     "output_type": "execute_result"
    }
   ],
   "source": [
    "# 计算theta\n",
    "theta = np.zeros(num_s)\n",
    "\n",
    "for g_iter, g in enumerate(grad):\n",
    "    theta[g_iter] = math.atan(g)\n",
    "\n",
    "# \n",
    "#\n",
    "# theta *= 10\n",
    "\n",
    "\n",
    "theta[0:5]"
   ]
  },
  {
   "cell_type": "code",
   "execution_count": 26,
   "metadata": {},
   "outputs": [
    {
     "data": {
      "text/plain": [
       "31.911730381746313"
      ]
     },
     "execution_count": 26,
     "metadata": {},
     "output_type": "execute_result"
    }
   ],
   "source": [
    "max(theta) * 180 / np.pi"
   ]
  },
  {
   "cell_type": "code",
   "execution_count": 27,
   "metadata": {},
   "outputs": [
    {
     "data": {
      "text/plain": [
       "-44.72711359045537"
      ]
     },
     "execution_count": 27,
     "metadata": {},
     "output_type": "execute_result"
    }
   ],
   "source": [
    "min(theta) * 180 / np.pi"
   ]
  },
  {
   "cell_type": "code",
   "execution_count": 28,
   "metadata": {},
   "outputs": [
    {
     "data": {
      "text/plain": [
       "[<matplotlib.lines.Line2D at 0x7fdda2454f28>]"
      ]
     },
     "execution_count": 28,
     "metadata": {},
     "output_type": "execute_result"
    },
    {
     "data": {
      "image/png": "[encoded data removed]",
      "text/plain": [
       "<Figure size 432x288 with 1 Axes>"
      ]
     },
     "metadata": {
      "needs_background": "light"
     },
     "output_type": "display_data"
    }
   ],
   "source": [
    "plt.plot(theta)"
   ]
  },
  {
   "cell_type": "code",
   "execution_count": 29,
   "metadata": {},
   "outputs": [
    {
     "data": {
      "text/plain": [
       "'0,99'"
      ]
     },
     "execution_count": 29,
     "metadata": {},
     "output_type": "execute_result"
    }
   ],
   "source": [
    "# 设定初始状态\n",
    "state0 = '0,' + str(num_w - 1)\n",
    "state0"
   ]
  },
  {
   "cell_type": "markdown",
   "metadata": {},
   "source": [
    "## 计算功率策略"
   ]
  },
  {
   "cell_type": "code",
   "execution_count": 30,
   "metadata": {},
   "outputs": [],
   "source": [
    "# 定义4种功率计算的策略\n",
    "def U_strategy(category, **kwargs):\n",
    "    \"\"\"\n",
    "    Umax(vi, wi)\n",
    "    Ua0(vi, theta)\n",
    "    Ucp()\n",
    "    U0()\n",
    "    \"\"\"\n",
    "    if category == 'Umax':\n",
    "        return Umax(kwargs['vi'], kwargs['wi'])\n",
    "    if category == 'Ua0':\n",
    "        return Ua0(kwargs['vi'], kwargs['wi'], kwargs['theta'])\n",
    "    if category == 'Ucp':\n",
    "        return Ucp()\n",
    "    if category == 'U0':\n",
    "        return U0()\n",
    "    assert 0\n",
    "\n",
    "# Umax\n",
    "def Umax(vi, wi):\n",
    "    coef = 0.04\n",
    "    # return (0.8 * wi + CP) * (vi / (30 + coef * wi) ) * (1 - vi / (30 + coef * wi)) * 3.2\n",
    "    return 7e-6 * wi**2 + 0.0023 * wi + CP\n",
    "\n",
    "# Ua=0\n",
    "def Ua0(vi, wi, theta):\n",
    "    # return (gravity * (math.sin(theta) + mu * math.cos(theta)) + 0.5 * Cd * rho * A * vi**2 / mass) * mass * vi\n",
    "    res = (0.12 * gravity * (math.sin(theta) + mu * math.cos(theta)) + 0.03 * vi**2 / mass) * mass * vi\n",
    "    return min(res, Umax(vi, wi))\n",
    "\n",
    "def Ucp():\n",
    "    return CP\n",
    "\n",
    "def U0():\n",
    "    return 0"
   ]
  },
  {
   "cell_type": "code",
   "execution_count": 31,
   "metadata": {},
   "outputs": [
    {
     "data": {
      "text/plain": [
       "-1.7693454929999999"
      ]
     },
     "execution_count": 31,
     "metadata": {},
     "output_type": "execute_result"
    }
   ],
   "source": [
    "# 10m/s时U = 600, a = 0\n",
    "v10 = 10\n",
    "# gravity * (math.sin(0) + mu * math.cos(0)) + arg * v10**2 / mass ==  Umax(0, w_max) / (mass * v10)\n",
    "arg = (Umax(0, w_max) / (mass * v10) - gravity * (math.sin(0) + mu * math.cos(0))) * mass / (v10**2)\n",
    "arg"
   ]
  },
  {
   "cell_type": "code",
   "execution_count": 32,
   "metadata": {},
   "outputs": [
    {
     "data": {
      "text/plain": [
       "(208.5, 208.5)"
      ]
     },
     "execution_count": 32,
     "metadata": {},
     "output_type": "execute_result"
    }
   ],
   "source": [
    "wi = 600\n",
    "vi = 10\n",
    "Umax(vi, wi), Ua0(vi, wi, 0.02)"
   ]
  },
  {
   "cell_type": "code",
   "execution_count": 33,
   "metadata": {},
   "outputs": [
    {
     "data": {
      "text/plain": [
       "(205.36360811999998, 620.874507)"
      ]
     },
     "execution_count": 33,
     "metadata": {},
     "output_type": "execute_result"
    }
   ],
   "source": [
    "# 最大的Umax\n",
    "vi = 16\n",
    "Umax(vi, CP), Umax(vi, w_max)"
   ]
  },
  {
   "cell_type": "code",
   "execution_count": 34,
   "metadata": {},
   "outputs": [
    {
     "data": {
      "text/plain": [
       "204.6"
      ]
     },
     "execution_count": 34,
     "metadata": {},
     "output_type": "execute_result"
    },
    {
     "data": {
      "image/png": "[encoded data removed]",
      "text/plain": [
       "<Figure size 432x288 with 1 Axes>"
      ]
     },
     "metadata": {
      "needs_background": "light"
     },
     "output_type": "display_data"
    }
   ],
   "source": [
    "li = []\n",
    "for wi in w:\n",
    "    li.append(Umax(12, wi))\n",
    "\n",
    "plt.plot(li)\n",
    "Umax(1, 0)"
   ]
  },
  {
   "cell_type": "code",
   "execution_count": 35,
   "metadata": {},
   "outputs": [
    {
     "data": {
      "text/plain": [
       "[<matplotlib.lines.Line2D at 0x7fdd80a19eb8>]"
      ]
     },
     "execution_count": 35,
     "metadata": {},
     "output_type": "execute_result"
    },
    {
     "data": {
      "image/png": "[encoded data removed]",
      "text/plain": [
       "<Figure size 432x288 with 1 Axes>"
      ]
     },
     "metadata": {
      "needs_background": "light"
     },
     "output_type": "display_data"
    }
   ],
   "source": [
    "li = []\n",
    "for vi in v:\n",
    "    li.append(Umax(vi, 0))\n",
    "\n",
    "plt.plot(li)"
   ]
  },
  {
   "cell_type": "code",
   "execution_count": 36,
   "metadata": {},
   "outputs": [
    {
     "data": {
      "text/plain": [
       "[<matplotlib.lines.Line2D at 0x7fddb16acbe0>]"
      ]
     },
     "execution_count": 36,
     "metadata": {},
     "output_type": "execute_result"
    },
    {
     "data": {
      "image/png": "[encoded data removed]",
      "text/plain": [
       "<Figure size 432x288 with 1 Axes>"
      ]
     },
     "metadata": {
      "needs_background": "light"
     },
     "output_type": "display_data"
    }
   ],
   "source": [
    "li = []\n",
    "for vi in v:\n",
    "    li.append(Umax(vi, 1000))\n",
    "\n",
    "plt.plot(li)"
   ]
  },
  {
   "cell_type": "code",
   "execution_count": 37,
   "metadata": {},
   "outputs": [
    {
     "data": {
      "text/plain": [
       "4"
      ]
     },
     "execution_count": 37,
     "metadata": {},
     "output_type": "execute_result"
    }
   ],
   "source": [
    "def get_nearest(val, arr):\n",
    "    \"\"\"在arr中找到和val最接近的值的下标\"\"\"\n",
    "    arr = np.array(arr)\n",
    "    sub = abs(arr - val)\n",
    "    ind = np.argmin(sub)\n",
    "    return ind\n",
    "\n",
    "arr = [1, 2, 3, 4, 5]\n",
    "val = 3.8\n",
    "arr[get_nearest(val, arr)]"
   ]
  },
  {
   "cell_type": "code",
   "execution_count": 38,
   "metadata": {},
   "outputs": [],
   "source": [
    "def get_vw(key):\n",
    "    \"\"\"根据字典键值返回v,w\"\"\"\n",
    "    v_ind, w_ind = key.split(',')\n",
    "    return v[int(v_ind)], w[int(w_ind)]"
   ]
  },
  {
   "cell_type": "markdown",
   "metadata": {},
   "source": [
    "## 计算下一个速度"
   ]
  },
  {
   "cell_type": "code",
   "execution_count": 39,
   "metadata": {},
   "outputs": [],
   "source": [
    "def cal_v_next(vi, ui, theta):\n",
    "    \"\"\"计算下一个时间的速度\"\"\"\n",
    "    res = vi + dS / vi * (ui / (mass * vi) - gravity * (math.sin(theta) + mu * math.cos(theta)) - 0.5 * Cd * rho * A * vi**2 / mass)\n",
    "    # a = 1.5* ui / (mass * vi) - gravity * (math.sin(theta) + mu * math.cos(theta)) -1.67 * vi**2 / mass\n",
    "    # print(a)\n",
    "    # res = vi + 0.1 * dS / vi * a\n",
    "    res = (0.0008 * ui + 0.5154) * (-0.0058 * vi**2 + 0.9526 * vi + 1.5625) - 0.1 * gravity * (math.sin(theta) + mu * math.cos(theta))\n",
    "    return res + 2\n",
    "    "
   ]
  },
  {
   "cell_type": "code",
   "execution_count": 40,
   "metadata": {},
   "outputs": [
    {
     "data": {
      "text/plain": [
       "3.7829386913167826"
      ]
     },
     "execution_count": 40,
     "metadata": {},
     "output_type": "execute_result"
    }
   ],
   "source": [
    "t = np.pi * 5 / 180\n",
    "\n",
    "gravity * (math.sin(t) + mu * math.cos(t))"
   ]
  },
  {
   "cell_type": "code",
   "execution_count": 41,
   "metadata": {},
   "outputs": [
    {
     "data": {
      "text/plain": [
       "0.09675"
      ]
     },
     "execution_count": 41,
     "metadata": {},
     "output_type": "execute_result"
    }
   ],
   "source": [
    "0.5 * Cd * rho * A"
   ]
  },
  {
   "cell_type": "code",
   "execution_count": 42,
   "metadata": {},
   "outputs": [
    {
     "data": {
      "text/plain": [
       "-3.0110945069999997"
      ]
     },
     "execution_count": 42,
     "metadata": {},
     "output_type": "execute_result"
    }
   ],
   "source": [
    "# 计算：10m/s时，受力达到平衡\n",
    "v10 = 10\n",
    "# Umax(0, w_max) / (mass * v10) == gravity * (math.sin(0) + mu * math.cos(0)) - arg * v10**2 / mass\n",
    "arg = -(gravity * (math.sin(0) + mu * math.cos(0)) + Umax(0, w_max) / (mass * v10)) * mass / v10**2\n",
    "arg"
   ]
  },
  {
   "cell_type": "code",
   "execution_count": 43,
   "metadata": {},
   "outputs": [
    {
     "data": {
      "text/plain": [
       "6.403454740000001"
      ]
     },
     "execution_count": 43,
     "metadata": {},
     "output_type": "execute_result"
    }
   ],
   "source": [
    "cal_v_next(3, 700, 0)"
   ]
  },
  {
   "cell_type": "code",
   "execution_count": 44,
   "metadata": {},
   "outputs": [
    {
     "data": {
      "text/plain": [
       "6.8691897"
      ]
     },
     "execution_count": 44,
     "metadata": {},
     "output_type": "execute_result"
    },
    {
     "data": {
      "image/png": "[encoded data removed]",
      "text/plain": [
       "<Figure size 432x288 with 1 Axes>"
      ]
     },
     "metadata": {
      "needs_background": "light"
     },
     "output_type": "display_data"
    }
   ],
   "source": [
    "li = []\n",
    "\n",
    "for vi in v:\n",
    "    li.append(cal_v_next(vi, 300, 0))\n",
    "\n",
    "plt.plot(li)\n",
    "\n",
    "cal_v_next(5, 400, 0)"
   ]
  },
  {
   "cell_type": "code",
   "execution_count": 45,
   "metadata": {},
   "outputs": [
    {
     "data": {
      "text/plain": [
       "4.6052452200000005"
      ]
     },
     "execution_count": 45,
     "metadata": {},
     "output_type": "execute_result"
    },
    {
     "data": {
      "image/png": "[encoded data removed]",
      "text/plain": [
       "<Figure size 432x288 with 1 Axes>"
      ]
     },
     "metadata": {
      "needs_background": "light"
     },
     "output_type": "display_data"
    }
   ],
   "source": [
    "li = []\n",
    "\n",
    "for wi in w:\n",
    "    li.append(cal_v_next(2, wi, 0))\n",
    "\n",
    "plt.plot(li)\n",
    "\n",
    "ta = np.pi * 30 / 180\n",
    "cal_v_next(1, 800, 0)"
   ]
  },
  {
   "cell_type": "markdown",
   "metadata": {},
   "source": [
    "## 计算下一个W"
   ]
  },
  {
   "cell_type": "code",
   "execution_count": 46,
   "metadata": {},
   "outputs": [],
   "source": [
    "def cal_w_next(vi, wi, ui):\n",
    "    \"\"\"计算下一个时间的无氧功\"\"\"\n",
    "    if ui >= CP:\n",
    "        return wi + dS / vi * (CP - ui)\n",
    "    else:\n",
    "        a = 0.11\n",
    "        b = 237.5\n",
    "        return wi + dS / vi * (CP - a * ui - b)"
   ]
  },
  {
   "cell_type": "code",
   "execution_count": 47,
   "metadata": {},
   "outputs": [],
   "source": [
    "def clamp(val, limit1, limit2):\n",
    "    if limit1 < limit2:\n",
    "        minV, maxV = limit1, limit2\n",
    "    else:\n",
    "        minV, maxV = limit2, limit1\n",
    "    \n",
    "    if val < minV:\n",
    "        return minV\n",
    "    elif val > maxV:\n",
    "        return maxV\n",
    "    else:\n",
    "        return val\n"
   ]
  },
  {
   "cell_type": "code",
   "execution_count": 48,
   "metadata": {},
   "outputs": [
    {
     "data": {
      "text/plain": [
       "43884.429117550266"
      ]
     },
     "execution_count": 48,
     "metadata": {},
     "output_type": "execute_result"
    }
   ],
   "source": [
    "S"
   ]
  },
  {
   "cell_type": "markdown",
   "metadata": {},
   "source": [
    "## 计算所有转移状态"
   ]
  },
  {
   "cell_type": "code",
   "execution_count": 49,
   "metadata": {},
   "outputs": [
    {
     "data": {
      "text/plain": [
       "828"
      ]
     },
     "execution_count": 49,
     "metadata": {},
     "output_type": "execute_result"
    }
   ],
   "source": [
    "# next_state[s_ind]['v_ind,w_ind']代表当前的s对应的行状态为(v, w)的下一个状态的v', w'\n",
    "# next_state长度为num_s, 最后一个（S_max）没有值（即下一个状态），只有键（即当前状态）\n",
    "next_state = []\n",
    "for i in range(num_s):\n",
    "    next_state.append({})\n",
    "\n",
    "# 初始化v和w\n",
    "next_state[0][state0] = []\n",
    "len(next_state)\n",
    "\n",
    "# categories = ['Umax', 'Ucp', 'U0']\n",
    "categories = ['Umax', 'Ua0', 'Ucp', 'U0']\n",
    "\n",
    "# theta = np.pi * 30 / 180\n",
    "# 为next_state生成所有可能的状态\n",
    "for s_iter in range(num_s - 1):\n",
    "    for cur_st in next_state[s_iter].keys():\n",
    "        # 生成4种全新的状态\n",
    "        v_cur, w_cur = get_vw(cur_st)\n",
    "        # 计算v_next, w_next\n",
    "        args = [{'vi':v_cur, 'wi':w_cur}, {'vi':v_cur, 'wi':w_cur, 'theta':theta[s_iter]}, {}, {}]\n",
    "        # args = [{'vi':v_cur, 'wi':w_cur}, {}, {}]\n",
    "        for cat, arg in zip(categories, args):\n",
    "            u_cur = U_strategy(cat, **arg)\n",
    "            v_next = cal_v_next(v_cur, u_cur, theta[s_iter])\n",
    "            w_next = cal_w_next(v_cur, w_cur, u_cur)\n",
    "\n",
    "            v_next_ind = get_nearest(v_next, v)\n",
    "            w_next_ind = get_nearest(w_next, w)\n",
    "            # 添加到下一层的next_state\n",
    "            k = ','.join([str(v_next_ind), str(w_next_ind)])\n",
    "            \n",
    "            next_state[s_iter][cur_st].append(k)\n",
    "            if k not in next_state[s_iter + 1].keys():\n",
    "                next_state[s_iter + 1][k] = []\n",
    "\n",
    "len(next_state[10])"
   ]
  },
  {
   "cell_type": "markdown",
   "metadata": {},
   "source": [
    "## 前向DP(舍弃的方法)"
   ]
  },
  {
   "cell_type": "code",
   "execution_count": 50,
   "metadata": {},
   "outputs": [],
   "source": [
    "def DP_forward():\n",
    "    # 开始动态规划\n",
    "    # 初始化损失函数J，J代表每个位置到终点的最短时间\n",
    "    J = []\n",
    "    for i in range(num_s):\n",
    "        J.append({})\n",
    "\n",
    "    J[0][state0] = 0\n",
    "\n",
    "\n",
    "    # 最大迭代次数\n",
    "    max_iter = 500\n",
    "    cur_iter = 0\n",
    "    last_J = 0\n",
    "\n",
    "    while cur_iter < max_iter:\n",
    "        best_stats = [state0]\n",
    "        best_modes = []\n",
    "\n",
    "        # 对每一层进行遍历\n",
    "        for s_iter in range(num_s - 1):\n",
    "            cost_min_s = inf    # 该距离下的最小时间\n",
    "            best_stat_s = 0     # 该距离下的最好状态\n",
    "            best_mode_s = 0     # 该距离下的u模式选择\n",
    "\n",
    "            for cur_st, next_stats in next_state[s_iter].items():\n",
    "                # 获得当前的状态\n",
    "                v_cur, w_cur = get_vw(cur_st)\n",
    "                # 当前状态转移得到的4种新状态中时间最短的\n",
    "                cost_min = inf\n",
    "                best_stat = 0\n",
    "                best_mod = 0\n",
    "                # 对于每一个转移后的状态，计算所用的时间\n",
    "                for mode_ind, next_st in enumerate(next_stats):\n",
    "                    v_next, w_next = get_vw(next_st)\n",
    "\n",
    "                    # 计算dS路程内花费的平均时间\n",
    "                    dt = dS / (v_cur + v_next)\n",
    "                    cost = dt\n",
    "                    if next_st in J[s_iter + 1].keys():\n",
    "                        cost += J[s_iter + 1][next_st]\n",
    "\n",
    "                    if cost < cost_min:\n",
    "                        cost_min = cost\n",
    "                        best_stat = next_st\n",
    "                        best_mod = mode_ind\n",
    "                \n",
    "                J[s_iter][cur_st] = cost_min\n",
    "\n",
    "                if cost_min < cost_min_s:\n",
    "                    cost_min_s = cost_min\n",
    "                    best_stat_s = best_stat\n",
    "                    best_mode_s = best_mod\n",
    "            \n",
    "            # 记录选择的状态\n",
    "            best_stats.append(best_stat_s)\n",
    "            best_modes.append(best_mode_s)\n",
    "            \n",
    "        cur_iter += 1\n",
    "        if (cur_iter + 1) % 10 == 0:\n",
    "            print('iter: ', cur_iter + 1, J[0][state0])\n",
    "\n",
    "        if abs(last_J - J[0][state0]) < 1e-3:\n",
    "            print('iter: ', cur_iter + 1, J[0][state0])\n",
    "            break\n",
    "        last_J = J[0][state0]"
   ]
  },
  {
   "cell_type": "code",
   "execution_count": 51,
   "metadata": {},
   "outputs": [
    {
     "data": {
      "text/plain": [
       "1500"
      ]
     },
     "execution_count": 51,
     "metadata": {},
     "output_type": "execute_result"
    }
   ],
   "source": [
    "# 最大距离能够得到的状态\n",
    "len(next_state[num_s - 1].keys())"
   ]
  },
  {
   "cell_type": "markdown",
   "metadata": {},
   "source": [
    "## 后向DP"
   ]
  },
  {
   "cell_type": "code",
   "execution_count": 52,
   "metadata": {},
   "outputs": [],
   "source": [
    "# 动态规划方法2\n",
    "J = []\n",
    "for i in range(num_s):\n",
    "    J.append({})\n",
    "\n",
    "# 初始化终点的值\n",
    "for key in next_state[num_s - 1].keys():\n",
    "    J[num_s - 1][key] = 0\n",
    "\n",
    "# 记录每个状态选择的模式，最后一个状态不选择\n",
    "best_modes = []\n",
    "for i in range(num_s - 1):\n",
    "    best_modes.append({})\n",
    "\n",
    "for s_iter in range(num_s - 2, -1, -1): \n",
    "    for cur_st, next_stats in next_state[s_iter].items():\n",
    "        # 获得当前的状态\n",
    "        v_cur, w_cur = get_vw(cur_st)\n",
    "        # 当前状态转移得到的4种新状态中时间最短的\n",
    "        cost_min = inf\n",
    "        best_mod = 0\n",
    "        # 对于每一个转移后的状态，计算所用的时间\n",
    "        for mode_ind, next_st in enumerate(next_stats):\n",
    "            v_next, w_next = get_vw(next_st)\n",
    "            # 计算dS路程内花费的平均时间\n",
    "            dt = dS / (v_cur + v_next)\n",
    "            cost = dt\n",
    "            # if next_st in J[s_iter + 1].keys():\n",
    "            Ji = J[s_iter + 1][next_st]\n",
    "            cost += Ji\n",
    "\n",
    "            if cost < cost_min:\n",
    "                cost_min = cost\n",
    "                best_mod = mode_ind\n",
    "        \n",
    "        J[s_iter][cur_st] = cost_min\n",
    "        best_modes[s_iter][cur_st] = best_mod"
   ]
  },
  {
   "cell_type": "code",
   "execution_count": 53,
   "metadata": {},
   "outputs": [
    {
     "data": {
      "text/plain": [
       "{'0,99': 2823.869196958838}"
      ]
     },
     "execution_count": 53,
     "metadata": {},
     "output_type": "execute_result"
    }
   ],
   "source": [
    "J[0]"
   ]
  },
  {
   "cell_type": "code",
   "execution_count": 54,
   "metadata": {},
   "outputs": [],
   "source": [
    "# 通过每个状态选择的模式推导出最优状态及其功率\n",
    "cur_st = state0\n",
    "\n",
    "v0, w0 = get_vw(state0)\n",
    "# 统计v\n",
    "v_best = [v0]\n",
    "\n",
    "# 统计w\n",
    "w_best = [w0]\n",
    "\n",
    "# 统计u\n",
    "u_best = []\n",
    "\n",
    "# 统计mode\n",
    "mode_best = []\n",
    "# categories = ['Umax', 'Ua0', 'Ucp', 'U0']\n",
    "\n",
    "for s_iter in range(num_s - 1):\n",
    "    mode_ind = best_modes[s_iter][cur_st]\n",
    "    mode_best.append(mode_ind)\n",
    "    # 得到下一个状态\n",
    "    next_st = next_state[s_iter][cur_st][mode_ind]\n",
    "    v_next, w_next = get_vw(next_st)\n",
    "    v_best.append(v_next)\n",
    "    w_best.append(w_next)\n",
    "\n",
    "    args = [{'vi':v_next, 'wi':w_next}, {'vi':v_next, 'wi':w_next, 'theta':theta[s_iter]}, {}, {}]\n",
    "    # args = [{'vi':v_next, 'wi':w_next}, {}, {}]\n",
    "    u_next = U_strategy(categories[mode_ind], **args[mode_ind])\n",
    "    u_best.append(u_next)\n",
    "    cur_st = next_st\n"
   ]
  },
  {
   "cell_type": "code",
   "execution_count": 55,
   "metadata": {},
   "outputs": [],
   "source": [
    "Umax_best = []\n",
    "for vi, wi in zip(v_best, w_best):\n",
    "    Umax_best.append(Umax(vi, wi))"
   ]
  },
  {
   "cell_type": "markdown",
   "metadata": {},
   "source": [
    "## 根据速度计算的时间"
   ]
  },
  {
   "cell_type": "code",
   "execution_count": 56,
   "metadata": {},
   "outputs": [
    {
     "name": "stdout",
     "output_type": "stream",
     "text": [
      "min t:  5650.302100642695 s 94.17170167737825 min\n"
     ]
    }
   ],
   "source": [
    "sum_t = 0\n",
    "for vi in v_best:\n",
    "    sum_t += dS / vi\n",
    "print('min t: ', sum_t, 's', sum_t / 60, 'min')"
   ]
  },
  {
   "cell_type": "markdown",
   "metadata": {},
   "source": [
    "## 数据保存\n"
   ]
  },
  {
   "cell_type": "code",
   "execution_count": 57,
   "metadata": {},
   "outputs": [
    {
     "data": {
      "text/plain": [
       "(4389, 4389, 4388, 4389, 4388)"
      ]
     },
     "execution_count": 57,
     "metadata": {},
     "output_type": "execute_result"
    }
   ],
   "source": [
    "len(v_best), len(w_best), len(u_best), len(Umax_best), len(mode_best)"
   ]
  },
  {
   "cell_type": "code",
   "execution_count": 58,
   "metadata": {},
   "outputs": [
    {
     "data": {
      "text/plain": [
       "(4389, 6)"
      ]
     },
     "execution_count": 58,
     "metadata": {},
     "output_type": "execute_result"
    }
   ],
   "source": [
    "save_data = pd.DataFrame({'distance':s, 'speed':v_best, 'w':w_best, 'u':[u_best[0]] + u_best, 'Umax':Umax_best, 'Umode':[mode_best[0]] + mode_best})\n",
    "save_data.shape"
   ]
  },
  {
   "cell_type": "code",
   "execution_count": 59,
   "metadata": {},
   "outputs": [
    {
     "data": {
      "text/html": [
       "<div>\n",
       "<style scoped>\n",
       "    .dataframe tbody tr th:only-of-type {\n",
       "        vertical-align: middle;\n",
       "    }\n",
       "\n",
       "    .dataframe tbody tr th {\n",
       "        vertical-align: top;\n",
       "    }\n",
       "\n",
       "    .dataframe thead th {\n",
       "        text-align: right;\n",
       "    }\n",
       "</style>\n",
       "<table border=\"1\" class=\"dataframe\">\n",
       "  <thead>\n",
       "    <tr style=\"text-align: right;\">\n",
       "      <th></th>\n",
       "      <th>distance</th>\n",
       "      <th>speed</th>\n",
       "      <th>w</th>\n",
       "      <th>u</th>\n",
       "      <th>Umax</th>\n",
       "      <th>Umode</th>\n",
       "    </tr>\n",
       "  </thead>\n",
       "  <tbody>\n",
       "    <tr>\n",
       "      <th>0</th>\n",
       "      <td>0.0</td>\n",
       "      <td>3.000000</td>\n",
       "      <td>7549.0</td>\n",
       "      <td>204.6</td>\n",
       "      <td>620.874507</td>\n",
       "      <td>2</td>\n",
       "    </tr>\n",
       "    <tr>\n",
       "      <th>1</th>\n",
       "      <td>10.0</td>\n",
       "      <td>4.734694</td>\n",
       "      <td>7549.0</td>\n",
       "      <td>204.6</td>\n",
       "      <td>620.874507</td>\n",
       "      <td>2</td>\n",
       "    </tr>\n",
       "    <tr>\n",
       "      <th>2</th>\n",
       "      <td>20.0</td>\n",
       "      <td>5.775510</td>\n",
       "      <td>7549.0</td>\n",
       "      <td>204.6</td>\n",
       "      <td>620.874507</td>\n",
       "      <td>2</td>\n",
       "    </tr>\n",
       "    <tr>\n",
       "      <th>3</th>\n",
       "      <td>30.0</td>\n",
       "      <td>6.469388</td>\n",
       "      <td>7549.0</td>\n",
       "      <td>204.6</td>\n",
       "      <td>620.874507</td>\n",
       "      <td>2</td>\n",
       "    </tr>\n",
       "    <tr>\n",
       "      <th>4</th>\n",
       "      <td>40.0</td>\n",
       "      <td>6.816327</td>\n",
       "      <td>7549.0</td>\n",
       "      <td>204.6</td>\n",
       "      <td>620.874507</td>\n",
       "      <td>2</td>\n",
       "    </tr>\n",
       "  </tbody>\n",
       "</table>\n",
       "</div>"
      ],
      "text/plain": [
       "   distance     speed       w      u        Umax  Umode\n",
       "0       0.0  3.000000  7549.0  204.6  620.874507      2\n",
       "1      10.0  4.734694  7549.0  204.6  620.874507      2\n",
       "2      20.0  5.775510  7549.0  204.6  620.874507      2\n",
       "3      30.0  6.469388  7549.0  204.6  620.874507      2\n",
       "4      40.0  6.816327  7549.0  204.6  620.874507      2"
      ]
     },
     "execution_count": 59,
     "metadata": {},
     "output_type": "execute_result"
    }
   ],
   "source": [
    "save_data.head()"
   ]
  },
  {
   "cell_type": "code",
   "execution_count": 60,
   "metadata": {},
   "outputs": [
    {
     "data": {
      "text/plain": [
       "0    4285\n",
       "1      58\n",
       "2      46\n",
       "Name: Umode, dtype: int64"
      ]
     },
     "execution_count": 60,
     "metadata": {},
     "output_type": "execute_result"
    }
   ],
   "source": [
    "save_data['Umode'].value_counts()"
   ]
  },
  {
   "cell_type": "code",
   "execution_count": 61,
   "metadata": {},
   "outputs": [
    {
     "data": {
      "text/html": [
       "<div>\n",
       "<style scoped>\n",
       "    .dataframe tbody tr th:only-of-type {\n",
       "        vertical-align: middle;\n",
       "    }\n",
       "\n",
       "    .dataframe tbody tr th {\n",
       "        vertical-align: top;\n",
       "    }\n",
       "\n",
       "    .dataframe thead th {\n",
       "        text-align: right;\n",
       "    }\n",
       "</style>\n",
       "<table border=\"1\" class=\"dataframe\">\n",
       "  <thead>\n",
       "    <tr style=\"text-align: right;\">\n",
       "      <th></th>\n",
       "      <th>distance</th>\n",
       "      <th>speed</th>\n",
       "      <th>w</th>\n",
       "      <th>u</th>\n",
       "      <th>Umax</th>\n",
       "      <th>Umode</th>\n",
       "      <th>Time</th>\n",
       "    </tr>\n",
       "  </thead>\n",
       "  <tbody>\n",
       "    <tr>\n",
       "      <th>0</th>\n",
       "      <td>0.0</td>\n",
       "      <td>3.000000</td>\n",
       "      <td>7549.0</td>\n",
       "      <td>204.6</td>\n",
       "      <td>620.874507</td>\n",
       "      <td>2</td>\n",
       "      <td>5650.302101</td>\n",
       "    </tr>\n",
       "    <tr>\n",
       "      <th>1</th>\n",
       "      <td>10.0</td>\n",
       "      <td>4.734694</td>\n",
       "      <td>7549.0</td>\n",
       "      <td>204.6</td>\n",
       "      <td>620.874507</td>\n",
       "      <td>2</td>\n",
       "      <td>0.000000</td>\n",
       "    </tr>\n",
       "    <tr>\n",
       "      <th>2</th>\n",
       "      <td>20.0</td>\n",
       "      <td>5.775510</td>\n",
       "      <td>7549.0</td>\n",
       "      <td>204.6</td>\n",
       "      <td>620.874507</td>\n",
       "      <td>2</td>\n",
       "      <td>0.000000</td>\n",
       "    </tr>\n",
       "    <tr>\n",
       "      <th>3</th>\n",
       "      <td>30.0</td>\n",
       "      <td>6.469388</td>\n",
       "      <td>7549.0</td>\n",
       "      <td>204.6</td>\n",
       "      <td>620.874507</td>\n",
       "      <td>2</td>\n",
       "      <td>0.000000</td>\n",
       "    </tr>\n",
       "    <tr>\n",
       "      <th>4</th>\n",
       "      <td>40.0</td>\n",
       "      <td>6.816327</td>\n",
       "      <td>7549.0</td>\n",
       "      <td>204.6</td>\n",
       "      <td>620.874507</td>\n",
       "      <td>2</td>\n",
       "      <td>0.000000</td>\n",
       "    </tr>\n",
       "  </tbody>\n",
       "</table>\n",
       "</div>"
      ],
      "text/plain": [
       "   distance     speed       w      u        Umax  Umode         Time\n",
       "0       0.0  3.000000  7549.0  204.6  620.874507      2  5650.302101\n",
       "1      10.0  4.734694  7549.0  204.6  620.874507      2     0.000000\n",
       "2      20.0  5.775510  7549.0  204.6  620.874507      2     0.000000\n",
       "3      30.0  6.469388  7549.0  204.6  620.874507      2     0.000000\n",
       "4      40.0  6.816327  7549.0  204.6  620.874507      2     0.000000"
      ]
     },
     "execution_count": 61,
     "metadata": {},
     "output_type": "execute_result"
    }
   ],
   "source": [
    "tmp = np.zeros(save_data.shape[0])\n",
    "tmp[0] = sum_t\n",
    "\n",
    "save_data['Time'] = tmp\n",
    "save_data.head()"
   ]
  },
  {
   "cell_type": "code",
   "execution_count": 62,
   "metadata": {},
   "outputs": [],
   "source": [
    "save_data.to_csv(save_file)"
   ]
  },
  {
   "cell_type": "markdown",
   "metadata": {},
   "source": [
    "## 速度图"
   ]
  },
  {
   "cell_type": "code",
   "execution_count": 63,
   "metadata": {},
   "outputs": [
    {
     "data": {
      "text/plain": [
       "Text(0.5, 1.0, 'Speed Curve')"
      ]
     },
     "execution_count": 63,
     "metadata": {},
     "output_type": "execute_result"
    },
    {
     "data": {
      "image/png": "[encoded data removed]",
      "text/plain": [
       "<Figure size 432x288 with 1 Axes>"
      ]
     },
     "metadata": {
      "needs_background": "light"
     },
     "output_type": "display_data"
    }
   ],
   "source": [
    "plt.plot(s, v_best)\n",
    "plt.grid(True)\n",
    "plt.box(True)\n",
    "plt.xlabel('Distance(m)')\n",
    "plt.ylabel('Speed(m/s)')\n",
    "plt.title('Speed Curve')\n",
    "\n"
   ]
  },
  {
   "cell_type": "code",
   "execution_count": 64,
   "metadata": {},
   "outputs": [],
   "source": [
    "def fill_li(li, interval):\n",
    "    if type(li) == list:\n",
    "        li_fill = li + [0] * (math.ceil(len(li) / interval) * interval - len(li))\n",
    "    else:\n",
    "        li_fill = li[:]\n",
    "    return np.reshape(li_fill, (-1, interval))"
   ]
  },
  {
   "cell_type": "code",
   "execution_count": 65,
   "metadata": {},
   "outputs": [],
   "source": [
    "interval = 40"
   ]
  },
  {
   "cell_type": "code",
   "execution_count": 66,
   "metadata": {},
   "outputs": [],
   "source": [
    "v_best_fill = fill_li(v_best, interval)"
   ]
  },
  {
   "cell_type": "code",
   "execution_count": 67,
   "metadata": {},
   "outputs": [
    {
     "data": {
      "text/plain": [
       "(110, 40)"
      ]
     },
     "execution_count": 67,
     "metadata": {},
     "output_type": "execute_result"
    }
   ],
   "source": [
    "v_best_fill.shape"
   ]
  },
  {
   "cell_type": "code",
   "execution_count": 68,
   "metadata": {},
   "outputs": [
    {
     "data": {
      "text/plain": [
       "array([9.50510204, 8.24744898, 8.12602041, 7.85714286, 7.85714286])"
      ]
     },
     "execution_count": 68,
     "metadata": {},
     "output_type": "execute_result"
    }
   ],
   "source": [
    "mean_v_best = v_best_fill.mean(axis=1)\n",
    "mean_v_best[0:5]"
   ]
  },
  {
   "cell_type": "code",
   "execution_count": 69,
   "metadata": {},
   "outputs": [
    {
     "data": {
      "image/png": "[encoded data removed]",
      "text/plain": [
       "<Figure size 432x288 with 1 Axes>"
      ]
     },
     "metadata": {
      "needs_background": "light"
     },
     "output_type": "display_data"
    }
   ],
   "source": [
    "plt.plot(mean_v_best);"
   ]
  },
  {
   "cell_type": "code",
   "execution_count": 70,
   "metadata": {},
   "outputs": [
    {
     "data": {
      "text/plain": [
       "7.857143     3075\n",
       "7.510204     1131\n",
       "8.204082       76\n",
       "7.163265       55\n",
       "6.816327       11\n",
       "8.551020        9\n",
       "10.979592       4\n",
       "10.285714       4\n",
       "9.244898        4\n",
       "11.326531       4\n",
       "12.020408       4\n",
       "12.367347       3\n",
       "9.938776        2\n",
       "11.673469       2\n",
       "9.591837        1\n",
       "6.469388        1\n",
       "5.775510        1\n",
       "4.734694        1\n",
       "3.000000        1\n",
       "dtype: int64"
      ]
     },
     "execution_count": 70,
     "metadata": {},
     "output_type": "execute_result"
    }
   ],
   "source": [
    "pd.Series(v_best).value_counts()"
   ]
  },
  {
   "cell_type": "markdown",
   "metadata": {},
   "source": [
    "## W图"
   ]
  },
  {
   "cell_type": "code",
   "execution_count": 71,
   "metadata": {},
   "outputs": [
    {
     "data": {
      "text/plain": [
       "[<matplotlib.lines.Line2D at 0x7fdc88fc6208>]"
      ]
     },
     "execution_count": 71,
     "metadata": {},
     "output_type": "execute_result"
    },
    {
     "data": {
      "image/png": "[encoded data removed]",
      "text/plain": [
       "<Figure size 432x288 with 1 Axes>"
      ]
     },
     "metadata": {
      "needs_background": "light"
     },
     "output_type": "display_data"
    }
   ],
   "source": [
    "plt.plot(w_best)"
   ]
  },
  {
   "cell_type": "code",
   "execution_count": 72,
   "metadata": {},
   "outputs": [
    {
     "data": {
      "text/plain": [
       "[<matplotlib.lines.Line2D at 0x7fdc88fe02b0>]"
      ]
     },
     "execution_count": 72,
     "metadata": {},
     "output_type": "execute_result"
    },
    {
     "data": {
      "image/png": "[encoded data removed]",
      "text/plain": [
       "<Figure size 432x288 with 1 Axes>"
      ]
     },
     "metadata": {
      "needs_background": "light"
     },
     "output_type": "display_data"
    }
   ],
   "source": [
    "w_best_fill = fill_li(w_best, interval)\n",
    "mean_w_best = w_best_fill.mean(axis=1)\n",
    "plt.plot(mean_w_best)"
   ]
  },
  {
   "cell_type": "markdown",
   "metadata": {},
   "source": [
    "## U图"
   ]
  },
  {
   "cell_type": "code",
   "execution_count": 73,
   "metadata": {},
   "outputs": [
    {
     "data": {
      "text/plain": [
       "[<matplotlib.lines.Line2D at 0x7fdc9aa74c88>]"
      ]
     },
     "execution_count": 73,
     "metadata": {},
     "output_type": "execute_result"
    },
    {
     "data": {
      "image/png": "[encoded data removed]",
      "text/plain": [
       "<Figure size 432x288 with 1 Axes>"
      ]
     },
     "metadata": {
      "needs_background": "light"
     },
     "output_type": "display_data"
    }
   ],
   "source": [
    "plt.plot(u_best)"
   ]
  },
  {
   "cell_type": "code",
   "execution_count": 74,
   "metadata": {},
   "outputs": [
    {
     "data": {
      "text/plain": [
       "[<matplotlib.lines.Line2D at 0x7fdc932f2710>]"
      ]
     },
     "execution_count": 74,
     "metadata": {},
     "output_type": "execute_result"
    },
    {
     "data": {
      "image/png": "[encoded data removed]",
      "text/plain": [
       "<Figure size 432x288 with 1 Axes>"
      ]
     },
     "metadata": {
      "needs_background": "light"
     },
     "output_type": "display_data"
    }
   ],
   "source": [
    "u_best_fill = fill_li(u_best, interval)\n",
    "mean_u_best = u_best_fill.mean(axis=1)\n",
    "plt.plot(mean_u_best)"
   ]
  },
  {
   "cell_type": "markdown",
   "metadata": {},
   "source": [
    "## Umax图"
   ]
  },
  {
   "cell_type": "code",
   "execution_count": 75,
   "metadata": {},
   "outputs": [
    {
     "data": {
      "text/plain": [
       "[<matplotlib.lines.Line2D at 0x7fdc9335a7b8>]"
      ]
     },
     "execution_count": 75,
     "metadata": {},
     "output_type": "execute_result"
    },
    {
     "data": {
      "image/png": "[encoded data removed]",
      "text/plain": [
       "<Figure size 432x288 with 1 Axes>"
      ]
     },
     "metadata": {
      "needs_background": "light"
     },
     "output_type": "display_data"
    }
   ],
   "source": [
    "plt.plot(Umax_best)"
   ]
  },
  {
   "cell_type": "markdown",
   "metadata": {},
   "source": [
    "## Mode图"
   ]
  },
  {
   "cell_type": "code",
   "execution_count": 76,
   "metadata": {},
   "outputs": [
    {
     "data": {
      "text/plain": [
       "[<matplotlib.lines.Line2D at 0x7fdc8915fe10>]"
      ]
     },
     "execution_count": 76,
     "metadata": {},
     "output_type": "execute_result"
    },
    {
     "data": {
      "image/png": "[encoded data removed]",
      "text/plain": [
       "<Figure size 432x288 with 1 Axes>"
      ]
     },
     "metadata": {
      "needs_background": "light"
     },
     "output_type": "display_data"
    }
   ],
   "source": [
    "plt.plot(mode_best)"
   ]
  },
  {
   "cell_type": "code",
   "execution_count": 77,
   "metadata": {},
   "outputs": [
    {
     "data": {
      "text/plain": [
       "(439, 10)"
      ]
     },
     "execution_count": 77,
     "metadata": {},
     "output_type": "execute_result"
    }
   ],
   "source": [
    "mode_interval = 10\n",
    "mode_best_fill = fill_li(mode_best, mode_interval)\n",
    "mode_best_fill.shape"
   ]
  },
  {
   "cell_type": "code",
   "execution_count": 78,
   "metadata": {},
   "outputs": [
    {
     "data": {
      "text/plain": [
       "array([[2, 2, 2, 2, 2, 1, 1, 1, 1, 2],\n",
       "       [2, 1, 1, 1, 0, 1, 1, 1, 1, 0],\n",
       "       [1, 1, 1, 0, 0, 0, 1, 0, 1, 0],\n",
       "       [0, 1, 0, 0, 0, 0, 0, 0, 0, 0],\n",
       "       [0, 0, 2, 0, 0, 0, 0, 0, 2, 0]])"
      ]
     },
     "execution_count": 78,
     "metadata": {},
     "output_type": "execute_result"
    }
   ],
   "source": [
    "mode_best_fill[:5,:]"
   ]
  },
  {
   "cell_type": "code",
   "execution_count": 79,
   "metadata": {},
   "outputs": [
    {
     "data": {
      "text/plain": [
       "1    4\n",
       "2    6\n",
       "dtype: int64"
      ]
     },
     "execution_count": 79,
     "metadata": {},
     "output_type": "execute_result"
    }
   ],
   "source": [
    "pd.Series(mode_best_fill[0,:].flat).value_counts().sort_values()"
   ]
  },
  {
   "cell_type": "code",
   "execution_count": 80,
   "metadata": {},
   "outputs": [
    {
     "data": {
      "text/plain": [
       "0"
      ]
     },
     "execution_count": 80,
     "metadata": {},
     "output_type": "execute_result"
    }
   ],
   "source": [
    "# 获取数组中数量最多的值\n",
    "pd.Series(mode_best_fill[4,:].flat).value_counts().sort_values().index.values[-1]"
   ]
  },
  {
   "cell_type": "code",
   "execution_count": 81,
   "metadata": {},
   "outputs": [],
   "source": [
    "# 统计interval中最多mode的数目\n",
    "cnt_mode_best = np.zeros(mode_best_fill.shape[0])\n",
    "for row_iter in range(mode_best_fill.shape[0]):\n",
    "    cnt_mode_best[row_iter] = pd.Series(mode_best_fill[row_iter,:].flat).value_counts().sort_values().index.values[-1]"
   ]
  },
  {
   "cell_type": "code",
   "execution_count": 82,
   "metadata": {},
   "outputs": [
    {
     "data": {
      "text/plain": [
       "(439,)"
      ]
     },
     "execution_count": 82,
     "metadata": {},
     "output_type": "execute_result"
    }
   ],
   "source": [
    "cnt_mode_best.shape"
   ]
  },
  {
   "cell_type": "code",
   "execution_count": 83,
   "metadata": {},
   "outputs": [
    {
     "data": {
      "text/plain": [
       "array([2., 1., 0., 0., 0., 2., 1., 0.])"
      ]
     },
     "execution_count": 83,
     "metadata": {},
     "output_type": "execute_result"
    }
   ],
   "source": [
    "cnt_mode_best[0:8]"
   ]
  },
  {
   "cell_type": "code",
   "execution_count": 84,
   "metadata": {},
   "outputs": [
    {
     "data": {
      "text/plain": [
       "[<matplotlib.lines.Line2D at 0x7fdc81b14198>]"
      ]
     },
     "execution_count": 84,
     "metadata": {},
     "output_type": "execute_result"
    },
    {
     "data": {
      "image/png": "[encoded data removed]",
      "text/plain": [
       "<Figure size 432x288 with 1 Axes>"
      ]
     },
     "metadata": {
      "needs_background": "light"
     },
     "output_type": "display_data"
    }
   ],
   "source": [
    "plt.plot(cnt_mode_best)"
   ]
  },
  {
   "cell_type": "code",
   "execution_count": 85,
   "metadata": {},
   "outputs": [
    {
     "data": {
      "text/plain": [
       "[2, 2, 2, 2, 2, 1, 1, 1, 1, 2]"
      ]
     },
     "execution_count": 85,
     "metadata": {},
     "output_type": "execute_result"
    }
   ],
   "source": [
    "mode_best[0:10]"
   ]
  },
  {
   "cell_type": "code",
   "execution_count": 86,
   "metadata": {},
   "outputs": [
    {
     "data": {
      "text/plain": [
       "0    4285\n",
       "1      58\n",
       "2      45\n",
       "dtype: int64"
      ]
     },
     "execution_count": 86,
     "metadata": {},
     "output_type": "execute_result"
    }
   ],
   "source": [
    "pd.Series(mode_best).value_counts()"
   ]
  },
  {
   "cell_type": "code",
   "execution_count": 87,
   "metadata": {},
   "outputs": [
    {
     "data": {
      "text/plain": [
       "[3.0,\n",
       " 4.73469387755102,\n",
       " 5.775510204081632,\n",
       " 6.469387755102041,\n",
       " 6.816326530612245,\n",
       " 7.163265306122449,\n",
       " 7.163265306122449,\n",
       " 7.163265306122449,\n",
       " 7.163265306122449,\n",
       " 7.510204081632653]"
      ]
     },
     "execution_count": 87,
     "metadata": {},
     "output_type": "execute_result"
    }
   ],
   "source": [
    "v_best[0:10]"
   ]
  },
  {
   "cell_type": "code",
   "execution_count": 88,
   "metadata": {},
   "outputs": [
    {
     "data": {
      "text/plain": [
       "[204.6,\n",
       " 204.6,\n",
       " 204.6,\n",
       " 204.6,\n",
       " 204.6,\n",
       " 210.19162905325172,\n",
       " 210.19162905325172,\n",
       " 210.19162905325172,\n",
       " 265.41932791715806,\n",
       " 204.6]"
      ]
     },
     "execution_count": 88,
     "metadata": {},
     "output_type": "execute_result"
    }
   ],
   "source": [
    "u_best[:10]"
   ]
  },
  {
   "cell_type": "code",
   "execution_count": 89,
   "metadata": {},
   "outputs": [
    {
     "data": {
      "text/plain": [
       "1753.8080808080806"
      ]
     },
     "execution_count": 89,
     "metadata": {},
     "output_type": "execute_result"
    }
   ],
   "source": [
    "w_best[-1]"
   ]
  },
  {
   "cell_type": "code",
   "execution_count": 90,
   "metadata": {},
   "outputs": [
    {
     "data": {
      "text/plain": [
       "[<matplotlib.lines.Line2D at 0x7fdc9a998358>]"
      ]
     },
     "execution_count": 90,
     "metadata": {},
     "output_type": "execute_result"
    },
    {
     "data": {
      "image/png": "[encoded data removed]",
      "text/plain": [
       "<Figure size 432x288 with 1 Axes>"
      ]
     },
     "metadata": {
      "needs_background": "light"
     },
     "output_type": "display_data"
    }
   ],
   "source": [
    "Umax_best_fill = fill_li(Umax_best, interval)\n",
    "mean_Umax_best = Umax_best_fill.mean(axis=1)\n",
    "plt.plot(mean_Umax_best)"
   ]
  },
  {
   "cell_type": "code",
   "execution_count": 91,
   "metadata": {},
   "outputs": [
    {
     "data": {
      "text/plain": [
       "<matplotlib.axes._subplots.AxesSubplot at 0x7fdc8924c978>"
      ]
     },
     "execution_count": 91,
     "metadata": {},
     "output_type": "execute_result"
    },
    {
     "data": {
      "image/png": "[encoded data removed]",
      "text/plain": [
       "<Figure size 432x288 with 1 Axes>"
      ]
     },
     "metadata": {
      "needs_background": "light"
     },
     "output_type": "display_data"
    }
   ],
   "source": [
    "data['AltitudeMeters'].plot()"
   ]
  },
  {
   "cell_type": "code",
   "execution_count": 92,
   "metadata": {},
   "outputs": [
    {
     "data": {
      "text/plain": [
       "[<matplotlib.lines.Line2D at 0x7fdc8933e5f8>]"
      ]
     },
     "execution_count": 92,
     "metadata": {},
     "output_type": "execute_result"
    },
    {
     "data": {
      "image/png": "[encoded data removed]",
      "text/plain": [
       "<Figure size 432x288 with 1 Axes>"
      ]
     },
     "metadata": {
      "needs_background": "light"
     },
     "output_type": "display_data"
    }
   ],
   "source": [
    "plt.plot(mean_v_best)"
   ]
  }
 ],
 "metadata": {
  "interpreter": {
   "hash": "1a0087f30a28d71a85a1d6b49f52318c6de7712d4f48fe24e973123e49211ddd"
  },
  "kernelspec": {
   "display_name": "Python 3.6.8 64-bit ('py368': conda)",
   "name": "python3"
  },
  "language_info": {
   "codemirror_mode": {
    "name": "ipython",
    "version": 3
   },
   "file_extension": ".py",
   "mimetype": "text/x-python",
   "name": "python",
   "nbconvert_exporter": "python",
   "pygments_lexer": "ipython3",
   "version": "3.6.8"
  },
  "orig_nbformat": 4
 },
 "nbformat": 4,
 "nbformat_minor": 2
}
