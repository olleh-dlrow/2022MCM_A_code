{
 "cells": [
  {
   "cell_type": "code",
   "execution_count": 3,
   "metadata": {},
   "outputs": [],
   "source": [
    "from matplotlib import pyplot as plt\n",
    "import numpy as np\n",
    "from numpy import inf\n",
    "import math\n",
    "from numpy import pi\n",
    "import pandas as pd"
   ]
  },
  {
   "cell_type": "code",
   "execution_count": 14,
   "metadata": {},
   "outputs": [
    {
     "data": {
      "text/plain": [
       "(3001, 0.9999999999999999)"
      ]
     },
     "execution_count": 14,
     "metadata": {},
     "output_type": "execute_result"
    }
   ],
   "source": [
    "# 只需要每个点的梯度\n",
    "save_file = 'gen_track.csv'\n",
    "\n",
    "S = 30000\n",
    "dS = 10\n",
    "num_s = int(S / dS) + 1\n",
    "theta = 45\n",
    "grad = math.tan(theta * pi / 180)\n",
    "\n",
    "min_h = 100\n",
    "\n",
    "s = np.linspace(0, S, num_s)\n",
    "len(s), grad"
   ]
  },
  {
   "cell_type": "code",
   "execution_count": 11,
   "metadata": {},
   "outputs": [
    {
     "data": {
      "text/plain": [
       "[0.0,\n",
       " 3333.3333333333335,\n",
       " 6666.666666666667,\n",
       " 10000.0,\n",
       " 13333.333333333334,\n",
       " 16666.666666666668,\n",
       " 20000.0,\n",
       " 23333.333333333336,\n",
       " 26666.666666666668]"
      ]
     },
     "execution_count": 11,
     "metadata": {},
     "output_type": "execute_result"
    }
   ],
   "source": [
    "# 设计9段\n",
    "stage_cnt = 9\n",
    "stage_len = S / stage_cnt\n",
    "stage_begins = [stage_len * i for i in range(stage_cnt)]\n",
    "stage_begins"
   ]
  },
  {
   "cell_type": "code",
   "execution_count": 12,
   "metadata": {},
   "outputs": [
    {
     "data": {
      "text/plain": [
       "9"
      ]
     },
     "execution_count": 12,
     "metadata": {},
     "output_type": "execute_result"
    }
   ],
   "source": [
    "# 每一段的坡度\n",
    "stage_grads = [0, grad, 0, -grad, 0, grad, 0, -grad, 0]\n",
    "len(stage_grads)"
   ]
  },
  {
   "cell_type": "code",
   "execution_count": 19,
   "metadata": {},
   "outputs": [],
   "source": [
    "distance = np.zeros(num_s)\n",
    "gradients = np.zeros(num_s)\n",
    "\n",
    "altitudes = np.zeros(num_s)\n",
    "altitudes[0] = min_h\n",
    "\n",
    "cur_stage = 0\n",
    "for s_iter in range(num_s):\n",
    "    distance[s_iter] = s_iter * dS\n",
    "    if cur_stage < stage_cnt - 1 and distance[s_iter] > stage_begins[cur_stage + 1]:\n",
    "        cur_stage += 1\n",
    "    gradients[s_iter] = stage_grads[cur_stage]\n",
    "    if s_iter != num_s - 1:\n",
    "        altitudes[s_iter + 1] = altitudes[s_iter] + dS * stage_grads[cur_stage]"
   ]
  },
  {
   "cell_type": "code",
   "execution_count": 20,
   "metadata": {},
   "outputs": [
    {
     "data": {
      "text/plain": [
       "[<matplotlib.lines.Line2D at 0x7f8ca0052748>]"
      ]
     },
     "execution_count": 20,
     "metadata": {},
     "output_type": "execute_result"
    },
    {
     "data": {
      "image/png": "[encoded data removed]",
      "text/plain": [
       "<Figure size 432x288 with 1 Axes>"
      ]
     },
     "metadata": {
      "needs_background": "light"
     },
     "output_type": "display_data"
    }
   ],
   "source": [
    "plt.plot(distance, altitudes)"
   ]
  },
  {
   "cell_type": "code",
   "execution_count": 21,
   "metadata": {},
   "outputs": [
    {
     "data": {
      "text/plain": [
       "(3001, 3)"
      ]
     },
     "execution_count": 21,
     "metadata": {},
     "output_type": "execute_result"
    }
   ],
   "source": [
    "data = pd.DataFrame({'DistanceMeters':distance, 'AltitudeMeters':altitudes, 'Gradient':gradients})\n",
    "data.shape"
   ]
  },
  {
   "cell_type": "code",
   "execution_count": 22,
   "metadata": {},
   "outputs": [
    {
     "data": {
      "text/html": [
       "<div>\n",
       "<style scoped>\n",
       "    .dataframe tbody tr th:only-of-type {\n",
       "        vertical-align: middle;\n",
       "    }\n",
       "\n",
       "    .dataframe tbody tr th {\n",
       "        vertical-align: top;\n",
       "    }\n",
       "\n",
       "    .dataframe thead th {\n",
       "        text-align: right;\n",
       "    }\n",
       "</style>\n",
       "<table border=\"1\" class=\"dataframe\">\n",
       "  <thead>\n",
       "    <tr style=\"text-align: right;\">\n",
       "      <th></th>\n",
       "      <th>DistanceMeters</th>\n",
       "      <th>AltitudeMeters</th>\n",
       "      <th>Gradient</th>\n",
       "    </tr>\n",
       "  </thead>\n",
       "  <tbody>\n",
       "    <tr>\n",
       "      <th>0</th>\n",
       "      <td>0.0</td>\n",
       "      <td>100.0</td>\n",
       "      <td>0.0</td>\n",
       "    </tr>\n",
       "    <tr>\n",
       "      <th>1</th>\n",
       "      <td>10.0</td>\n",
       "      <td>100.0</td>\n",
       "      <td>0.0</td>\n",
       "    </tr>\n",
       "    <tr>\n",
       "      <th>2</th>\n",
       "      <td>20.0</td>\n",
       "      <td>100.0</td>\n",
       "      <td>0.0</td>\n",
       "    </tr>\n",
       "    <tr>\n",
       "      <th>3</th>\n",
       "      <td>30.0</td>\n",
       "      <td>100.0</td>\n",
       "      <td>0.0</td>\n",
       "    </tr>\n",
       "    <tr>\n",
       "      <th>4</th>\n",
       "      <td>40.0</td>\n",
       "      <td>100.0</td>\n",
       "      <td>0.0</td>\n",
       "    </tr>\n",
       "  </tbody>\n",
       "</table>\n",
       "</div>"
      ],
      "text/plain": [
       "   DistanceMeters  AltitudeMeters  Gradient\n",
       "0             0.0           100.0       0.0\n",
       "1            10.0           100.0       0.0\n",
       "2            20.0           100.0       0.0\n",
       "3            30.0           100.0       0.0\n",
       "4            40.0           100.0       0.0"
      ]
     },
     "execution_count": 22,
     "metadata": {},
     "output_type": "execute_result"
    }
   ],
   "source": [
    "data.head()"
   ]
  },
  {
   "cell_type": "code",
   "execution_count": 23,
   "metadata": {},
   "outputs": [],
   "source": [
    "data.to_csv(save_file)"
   ]
  }
 ],
 "metadata": {
  "interpreter": {
   "hash": "fb611e6c54a8d687f4051b4e771c2115c2af1f2c403e0ef9f7e9f39e39771ed7"
  },
  "kernelspec": {
   "display_name": "Python 3.6.8 ('py368')",
   "language": "python",
   "name": "python3"
  },
  "language_info": {
   "codemirror_mode": {
    "name": "ipython",
    "version": 3
   },
   "file_extension": ".py",
   "mimetype": "text/x-python",
   "name": "python",
   "nbconvert_exporter": "python",
   "pygments_lexer": "ipython3",
   "version": "3.6.8"
  },
  "orig_nbformat": 4
 },
 "nbformat": 4,
 "nbformat_minor": 2
}
